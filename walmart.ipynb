{
 "cells": [
  {
   "cell_type": "code",
   "execution_count": 55,
   "id": "f2cc550f",
   "metadata": {},
   "outputs": [],
   "source": [
    "import requests\n",
    "from bs4 import BeautifulSoup\n",
    "import pandas as pd\n",
    "import numpy as np\n",
    "import random"
   ]
  },
  {
   "cell_type": "code",
   "execution_count": 56,
   "id": "323fa8c1",
   "metadata": {},
   "outputs": [],
   "source": [
    "USER_AGENTS = [\n",
    "        'Mozilla/5.0 (Windows NT 10.0; Win64; x64) AppleWebKit/537.36 (KHTML, like Gecko) Chrome/115.0.0.0 Safari/537.36',\n",
    "        'Mozilla/5.0 (Windows NT 10.0; Win64; x64; rv:102.0) Gecko/20100101 Firefox/102.0',\n",
    "        'Mozilla/5.0 (Macintosh; Intel Mac OS X 10_15_7) AppleWebKit/605.1.15 (KHTML, like Gecko) Version/15.1 Safari/605.1.15'\n",
    "    ]\n",
    "headers = {\n",
    "            'User-Agent': random.choice(USER_AGENTS),\n",
    "            'Accept-Language': 'en-US, en;q=0.5'\n",
    "        }"
   ]
  },
  {
   "cell_type": "code",
   "execution_count": null,
   "id": "c758c713",
   "metadata": {},
   "outputs": [],
   "source": [
    "url = \"https://www.walmart.com/browse/beauty/cologne-for-men/1085666_133225_6873232?povid=Beauty_FragranceCP_Hubspokes_ShopByCat_Forhim_122624\""
   ]
  },
  {
   "cell_type": "code",
   "execution_count": 53,
   "id": "1cfaaeeb",
   "metadata": {},
   "outputs": [
    {
     "data": {
      "text/plain": [
       "200"
      ]
     },
     "execution_count": 53,
     "metadata": {},
     "output_type": "execute_result"
    }
   ],
   "source": [
    "webpage = requests.get(url, headers=headers)\n",
    "webpage.status_code"
   ]
  },
  {
   "cell_type": "code",
   "execution_count": 54,
   "id": "190b87f7",
   "metadata": {},
   "outputs": [],
   "source": [
    "soup = BeautifulSoup(webpage.content, 'html.parser')"
   ]
  },
  {
   "cell_type": "code",
   "execution_count": 55,
   "id": "c71ac072",
   "metadata": {},
   "outputs": [],
   "source": [
    "links = soup.find_all(\"a\", class_='hide-sibling-opacity')\n"
   ]
  },
  {
   "cell_type": "code",
   "execution_count": 57,
   "id": "e88b40ce",
   "metadata": {},
   "outputs": [
    {
     "data": {
      "text/plain": [
       "12"
      ]
     },
     "execution_count": 57,
     "metadata": {},
     "output_type": "execute_result"
    }
   ],
   "source": [
    "len(links)"
   ]
  },
  {
   "cell_type": "code",
   "execution_count": 37,
   "id": "893fe731",
   "metadata": {},
   "outputs": [],
   "source": [
    "link = links[0].get('href')"
   ]
  },
  {
   "cell_type": "code",
   "execution_count": 38,
   "id": "c6c4b37a",
   "metadata": {},
   "outputs": [
    {
     "data": {
      "text/plain": [
       "'https://www.walmart.com/ip/Equate-24-Hour-Allergy-Cetirizine-Hydrochloride-Tablets-10-mg-45-Count/10899001?classType=VARIANT&athbdg=L1300'"
      ]
     },
     "execution_count": 38,
     "metadata": {},
     "output_type": "execute_result"
    }
   ],
   "source": [
    "product_link = \"https://www.walmart.com\" + link\n",
    "product_link"
   ]
  },
  {
   "cell_type": "code",
   "execution_count": 39,
   "id": "41a4a9a0",
   "metadata": {},
   "outputs": [
    {
     "data": {
      "text/plain": [
       "200"
      ]
     },
     "execution_count": 39,
     "metadata": {},
     "output_type": "execute_result"
    }
   ],
   "source": [
    "new_webpage = requests.get(product_link, headers=headers)\n",
    "new_webpage.status_code"
   ]
  },
  {
   "cell_type": "code",
   "execution_count": 40,
   "id": "b86be687",
   "metadata": {},
   "outputs": [],
   "source": [
    "new_soup = BeautifulSoup(new_webpage.content, 'html.parser')"
   ]
  },
  {
   "cell_type": "code",
   "execution_count": 26,
   "id": "101ae5f1",
   "metadata": {},
   "outputs": [
    {
     "data": {
      "text/plain": [
       "'Equate 24 Hour Allergy, Cetirizine Hydrochloride Tablets, 10 mg, 45 Count Compare to Zyrtec® Active Ingredient'"
      ]
     },
     "execution_count": 26,
     "metadata": {},
     "output_type": "execute_result"
    }
   ],
   "source": [
    "new_soup.find(\"h1\",class_ = \"lh-copy dark-gray mv1 f4 mh0 b\").text.strip()"
   ]
  },
  {
   "cell_type": "code",
   "execution_count": 27,
   "id": "e5b0aac7",
   "metadata": {},
   "outputs": [
    {
     "data": {
      "text/plain": [
       "'Now $9.77'"
      ]
     },
     "execution_count": 27,
     "metadata": {},
     "output_type": "execute_result"
    }
   ],
   "source": [
    "new_soup.find(\"span\", class_='inline-flex flex-column').text.strip()"
   ]
  },
  {
   "cell_type": "code",
   "execution_count": 44,
   "id": "f741c51b",
   "metadata": {},
   "outputs": [
    {
     "data": {
      "text/plain": [
       "'13.6K ratings'"
      ]
     },
     "execution_count": 44,
     "metadata": {},
     "output_type": "execute_result"
    }
   ],
   "source": [
    "new_soup.find_all(\"a\", class_='pl1 bg-transparent bn lh-solid pa0 sans-serif tc underline inline-button dark-gray pointer f7')[0].text.strip()\n"
   ]
  },
  {
   "cell_type": "code",
   "execution_count": 48,
   "id": "2d021110",
   "metadata": {},
   "outputs": [],
   "source": [
    "# scrape image\n",
    "image = new_soup.find(\"div\", class_='relative db').find(\"img\")[\"src\"]"
   ]
  },
  {
   "cell_type": "code",
   "execution_count": 49,
   "id": "3ec87494",
   "metadata": {},
   "outputs": [
    {
     "data": {
      "text/plain": [
       "'https://i5.walmartimages.com/seo/Equate-24-Hour-Allergy-Cetirizine-Hydrochloride-Tablets-10-mg-45-Count_e153b8b8-d566-4b9d-a82b-9e772e7ef6a9.c079530bf51c47c01c8f61efa260dae2.jpeg?odnHeight=117&odnWidth=117&odnBg=FFFFFF'"
      ]
     },
     "execution_count": 49,
     "metadata": {},
     "output_type": "execute_result"
    }
   ],
   "source": [
    "image"
   ]
  },
  {
   "cell_type": "markdown",
   "id": "fe0bd529",
   "metadata": {},
   "source": [
    "---"
   ]
  },
  {
   "cell_type": "markdown",
   "id": "b0382b7e",
   "metadata": {},
   "source": [
    "---"
   ]
  },
  {
   "cell_type": "markdown",
   "id": "d3915e4f",
   "metadata": {},
   "source": [
    "---\n",
    "------"
   ]
  },
  {
   "cell_type": "markdown",
   "id": "2726ff6f",
   "metadata": {},
   "source": [
    "# WalMart Data"
   ]
  },
  {
   "cell_type": "code",
   "execution_count": null,
   "id": "f1e6b00a",
   "metadata": {},
   "outputs": [
    {
     "name": "stdout",
     "output_type": "stream",
     "text": [
      "\n",
      "Scraping Page 1...\n",
      "Found 10 product links.\n",
      "\n",
      "Scraping Page 2...\n",
      "Found 11 product links.\n",
      "\n",
      "Scraping Page 3...\n",
      "Found 11 product links.\n",
      "\n",
      "Scraping Page 4...\n",
      "Found 11 product links.\n",
      "\n",
      "Scraping Page 5...\n",
      "Found 11 product links.\n",
      "\n",
      "Scraping Page 6...\n",
      "Found 11 product links.\n",
      "\n",
      "Scraping Page 7...\n",
      "Found 11 product links.\n",
      "\n",
      "Scraping Page 8...\n",
      "Found 11 product links.\n",
      "\n",
      "Scraping Page 9...\n",
      "Found 11 product links.\n",
      "\n",
      "Scraping Page 10...\n",
      "Found 11 product links.\n",
      "\n",
      "Scraping Page 11...\n",
      "Found 11 product links.\n",
      "\n",
      "Scraping Page 12...\n",
      "Found 11 product links.\n",
      "\n",
      "Scraping Page 13...\n",
      "Found 0 product links.\n",
      "\n",
      "Scraping Page 14...\n",
      "Found 0 product links.\n",
      "\n",
      "Scraping Page 15...\n",
      "Found 0 product links.\n",
      "\n",
      "Scraping Page 16...\n",
      "Found 0 product links.\n",
      "\n",
      "Scraping Page 17...\n",
      "Found 0 product links.\n",
      "\n",
      "Scraping Page 18...\n",
      "Found 0 product links.\n",
      "\n",
      "Scraping Page 19...\n",
      "Found 0 product links.\n",
      "\n",
      "Scraping Page 20...\n",
      "Found 0 product links.\n",
      "\n",
      "Scraping Page 21...\n",
      "Found 0 product links.\n",
      "\n",
      "Scraping Page 22...\n",
      "Found 0 product links.\n",
      "\n",
      "Scraping Page 23...\n",
      "Found 0 product links.\n",
      "\n",
      "Scraping Page 24...\n",
      "Found 0 product links.\n",
      "\n",
      "Scraping Page 25...\n",
      "Found 0 product links.\n",
      "\n",
      "Scraping complete! Data saved to 'amazon_data.csv'\n",
      "                                               title       price  \\\n",
      "0  Meta Quest 3 Elite Strap with VR Head Strap wi...     $129.00   \n",
      "1  Meta Quest 3S 128GB Virtual Reality Headset Ba...     $299.00   \n",
      "2  Meta Quest 3 512GB — The Most Powerful Quest —...     $499.00   \n",
      "3  Samsung Galaxy Watch4 40mm Smart Watch, Blueto...  Now $99.00   \n",
      "4  Straight Talk Moto G Play 4G 2024, 64GB, Blue ...      $29.88   \n",
      "\n",
      "                                                link  \\\n",
      "0  https://www.walmart.com/sp/track?bt=1&eventST=...   \n",
      "1  https://www.walmart.com/sp/track?bt=1&eventST=...   \n",
      "2  https://www.walmart.com/sp/track?bt=1&eventST=...   \n",
      "3  https://www.walmart.com/sp/track?bt=1&eventST=...   \n",
      "4  https://www.walmart.com/sp/track?bt=1&eventST=...   \n",
      "\n",
      "                                               image  \n",
      "0  https://i5.walmartimages.com/seo/Meta-Quest-3-...  \n",
      "1  https://i5.walmartimages.com/seo/Meta-Quest-3S...  \n",
      "2  https://i5.walmartimages.com/seo/Meta-Quest-3-...  \n",
      "3  https://i5.walmartimages.com/seo/Samsung-Galax...  \n",
      "4  https://i5.walmartimages.com/seo/Straight-Talk...  \n"
     ]
    },
    {
     "name": "stderr",
     "output_type": "stream",
     "text": [
      "C:\\Users\\Abid\\AppData\\Local\\Temp\\ipykernel_13976\\471371451.py:151: FutureWarning: A value is trying to be set on a copy of a DataFrame or Series through chained assignment using an inplace method.\n",
      "The behavior will change in pandas 3.0. This inplace method will never work because the intermediate object on which we are setting values always behaves as a copy.\n",
      "\n",
      "For example, when doing 'df[col].method(value, inplace=True)', try using 'df.method({col: value}, inplace=True)' or df[col] = df[col].method(value) instead, to perform the operation inplace on the original object.\n",
      "\n",
      "\n",
      "  walmart_df['title'].replace('', np.nan, inplace=True)\n"
     ]
    }
   ],
   "source": [
    "import requests\n",
    "from bs4 import BeautifulSoup\n",
    "import pandas as pd\n",
    "import numpy as np\n",
    "import time\n",
    "import random\n",
    "\n",
    "# -------------------- FUNCTIONS TO EXTRACT DETAILS --------------------\n",
    "\n",
    "def get_title(soup):\n",
    "    try:\n",
    "        title = soup.find(\"h1\",class_ = \"lh-copy dark-gray mv1 f4 mh0 b\")\n",
    "        title_string = title.text.strip()\n",
    "    except AttributeError:\n",
    "        title_string = \"\"\n",
    "    return title_string\n",
    "\n",
    "def get_price(soup):\n",
    "    try:\n",
    "        price = soup.find(\"span\", class_='inline-flex flex-column').text.strip()\n",
    "    except AttributeError:\n",
    "        \n",
    "        price = \"\"\n",
    "    return price\n",
    "\n",
    "\n",
    "def get_link(soup):\n",
    "    try:\n",
    "        link = soup.find(\"a\", class_='hide-sibling-opacity')\n",
    "        if \"https://www.walmart.com\" in link.get('href'):\n",
    "                product_link = link.get('href')\n",
    "        else:\n",
    "                product_link = \"https://www.walmart.com\" + link.get('href')\n",
    "    except AttributeError:\n",
    "        product_link = \"\"\n",
    "    return product_link\n",
    "    \n",
    "# function to scrape image of product\n",
    "def get_image(soup):\n",
    "    try:\n",
    "        image = soup.find(\"div\", class_='relative db').find(\"img\")\n",
    "        image_url = image['src']\n",
    "    except AttributeError:\n",
    "        image_url = \"\"\n",
    "    return image_url\n",
    "\n",
    "# -------------------- MAIN SCRIPT START --------------------\n",
    "\n",
    "if __name__ == '__main__':\n",
    "    \n",
    "    # Different User Agents to avoid quick blocking\n",
    "    USER_AGENTS = [\n",
    "        'Mozilla/5.0 (Windows NT 10.0; Win64; x64) AppleWebKit/537.36 (KHTML, like Gecko) Chrome/115.0.0.0 Safari/537.36',\n",
    "        'Mozilla/5.0 (Windows NT 10.0; Win64; x64; rv:102.0) Gecko/20100101 Firefox/102.0',\n",
    "        'Mozilla/5.0 (Macintosh; Intel Mac OS X 10_15_7) AppleWebKit/605.1.15 (KHTML, like Gecko) Version/15.1 Safari/605.1.15'\n",
    "    ]\n",
    "\n",
    "    BASE_URL = \"https://www.walmart.com/search?q=electronics\"\n",
    "    # Dictionary to store data\n",
    "    d = {\"title\": [], \"price\": [], \"link\": [], \"image\": []}\n",
    "\n",
    "    # Loop through pages 1 to 20\n",
    "    for page in range(1, 26):\n",
    "        print(f\"\\nScraping Page {page}...\")\n",
    "\n",
    "        url = BASE_URL + f\"&page={page}\"\n",
    "\n",
    "        # Randomize user agent for each page\n",
    "        headers = {\n",
    "            'User-Agent': random.choice(USER_AGENTS),\n",
    "            'Accept-Language': 'en-US, en;q=0.5'\n",
    "        }\n",
    "\n",
    "        webpage = requests.get(url, headers=headers)\n",
    "        soup = BeautifulSoup(webpage.content, \"html.parser\")\n",
    "\n",
    "        # Find all product links on the page\n",
    "        links = soup.find_all(\"a\", attrs={'class': 'hide-sibling-opacity'})\n",
    "\n",
    "        links_list = []\n",
    "        for link in links:\n",
    "            href = link.get('href')\n",
    "            links_list.append(href)\n",
    "\n",
    "        print(f\"Found {len(links_list)} product links.\")\n",
    "\n",
    "        # Visit each product link\n",
    "        for link in links_list:\n",
    "            # product_url = \"https://www.walmart.com\" + link\n",
    "            if \"https://www.walmart.com\" in link:\n",
    "                product_url = link\n",
    "            else:\n",
    "                product_url = \"https://www.walmart.com\" + link\n",
    "\n",
    "            try:\n",
    "                product_headers = {\n",
    "                    'User-Agent': random.choice(USER_AGENTS),\n",
    "                    'Accept-Language': 'en-US, en;q=0.5'\n",
    "                }\n",
    "                new_webpage = requests.get(product_url, headers=product_headers)\n",
    "                new_soup = BeautifulSoup(new_webpage.content, \"html.parser\")\n",
    "\n",
    "                # Extract and store data\n",
    "                d['title'].append(get_title(new_soup))\n",
    "                d['price'].append(get_price(new_soup))\n",
    "                d['link'].append(get_link(new_soup))\n",
    "                d['image'].append(get_image(new_soup))\n",
    "\n",
    "                time.sleep(1)  # Sleep between each product to avoid detection\n",
    "\n",
    "            except Exception as e:\n",
    "                print(f\"Failed to scrape {product_url}: {e}\")\n",
    "                continue\n",
    "\n",
    "        time.sleep(2)  # Sleep between pages\n",
    "\n",
    "    # Save results to CSV\n",
    "    walmart_df = pd.DataFrame.from_dict(d)\n",
    "    walmart_df['title'].replace('', np.nan, inplace=True)\n",
    "    walmart_df = walmart_df.dropna(subset=['title'])  # Remove empty titles\n",
    "    walmart_df.to_csv(\"amazon_data.csv\", header=True, index=False)\n",
    "\n",
    "    print(\"\\nScraping complete! Data saved to 'amazon_data.csv'\")\n",
    "    print(walmart_df.head())  # Display the first few rows of the DataFrame"
   ]
  },
  {
   "cell_type": "code",
   "execution_count": 402,
   "id": "4609990b",
   "metadata": {},
   "outputs": [
    {
     "data": {
      "text/html": [
       "<div>\n",
       "<style scoped>\n",
       "    .dataframe tbody tr th:only-of-type {\n",
       "        vertical-align: middle;\n",
       "    }\n",
       "\n",
       "    .dataframe tbody tr th {\n",
       "        vertical-align: top;\n",
       "    }\n",
       "\n",
       "    .dataframe thead th {\n",
       "        text-align: right;\n",
       "    }\n",
       "</style>\n",
       "<table border=\"1\" class=\"dataframe\">\n",
       "  <thead>\n",
       "    <tr style=\"text-align: right;\">\n",
       "      <th></th>\n",
       "      <th>title</th>\n",
       "      <th>price</th>\n",
       "      <th>link</th>\n",
       "      <th>image</th>\n",
       "    </tr>\n",
       "  </thead>\n",
       "  <tbody>\n",
       "    <tr>\n",
       "      <th>0</th>\n",
       "      <td>Meta Quest 3 Elite Strap with VR Head Strap wi...</td>\n",
       "      <td>$129.00</td>\n",
       "      <td>https://www.walmart.com/sp/track?bt=1&amp;eventST=...</td>\n",
       "      <td>https://i5.walmartimages.com/seo/Meta-Quest-3-...</td>\n",
       "    </tr>\n",
       "    <tr>\n",
       "      <th>1</th>\n",
       "      <td>Meta Quest 3S 128GB Virtual Reality Headset Ba...</td>\n",
       "      <td>$299.00</td>\n",
       "      <td>https://www.walmart.com/sp/track?bt=1&amp;eventST=...</td>\n",
       "      <td>https://i5.walmartimages.com/seo/Meta-Quest-3S...</td>\n",
       "    </tr>\n",
       "    <tr>\n",
       "      <th>2</th>\n",
       "      <td>Meta Quest 3 512GB — The Most Powerful Quest —...</td>\n",
       "      <td>$499.00</td>\n",
       "      <td>https://www.walmart.com/sp/track?bt=1&amp;eventST=...</td>\n",
       "      <td>https://i5.walmartimages.com/seo/Meta-Quest-3-...</td>\n",
       "    </tr>\n",
       "    <tr>\n",
       "      <th>3</th>\n",
       "      <td>Samsung Galaxy Watch4 40mm Smart Watch, Blueto...</td>\n",
       "      <td>Now $99.00</td>\n",
       "      <td>https://www.walmart.com/sp/track?bt=1&amp;eventST=...</td>\n",
       "      <td>https://i5.walmartimages.com/seo/Samsung-Galax...</td>\n",
       "    </tr>\n",
       "    <tr>\n",
       "      <th>4</th>\n",
       "      <td>Straight Talk Moto G Play 4G 2024, 64GB, Blue ...</td>\n",
       "      <td>$29.88</td>\n",
       "      <td>https://www.walmart.com/sp/track?bt=1&amp;eventST=...</td>\n",
       "      <td>https://i5.walmartimages.com/seo/Straight-Talk...</td>\n",
       "    </tr>\n",
       "    <tr>\n",
       "      <th>5</th>\n",
       "      <td>Apple AirPods 4</td>\n",
       "      <td>Now $99.00</td>\n",
       "      <td></td>\n",
       "      <td>https://i5.walmartimages.com/seo/Apple-AirPods...</td>\n",
       "    </tr>\n",
       "    <tr>\n",
       "      <th>6</th>\n",
       "      <td>onn. 32” Class HD (720P) LED Roku Smart Televi...</td>\n",
       "      <td>Now $88.00</td>\n",
       "      <td>https://www.walmart.com/sp/track?bt=1&amp;eventST=...</td>\n",
       "      <td>https://i5.walmartimages.com/seo/onn-32-Class-...</td>\n",
       "    </tr>\n",
       "    <tr>\n",
       "      <th>7</th>\n",
       "      <td>Apple AirTag - 1 Pack, Item Tracker with Apple...</td>\n",
       "      <td>Now $24.95</td>\n",
       "      <td></td>\n",
       "      <td>https://i5.walmartimages.com/seo/Apple-AirTag-...</td>\n",
       "    </tr>\n",
       "    <tr>\n",
       "      <th>8</th>\n",
       "      <td>Acer Chromebook 315 15.6 inch Laptop Intel Pro...</td>\n",
       "      <td>Now $179.00</td>\n",
       "      <td>https://www.walmart.com/sp/track?bt=1&amp;eventST=...</td>\n",
       "      <td>https://i5.walmartimages.com/seo/Acer-Chromebo...</td>\n",
       "    </tr>\n",
       "    <tr>\n",
       "      <th>9</th>\n",
       "      <td>CyberPowerPC Gamer Master Gaming Desktop AMD R...</td>\n",
       "      <td>Now $809.00</td>\n",
       "      <td>https://www.walmart.com/sp/track?bt=1&amp;eventST=...</td>\n",
       "      <td>https://i5.walmartimages.com/seo/CyberPowerPC-...</td>\n",
       "    </tr>\n",
       "  </tbody>\n",
       "</table>\n",
       "</div>"
      ],
      "text/plain": [
       "                                               title        price  \\\n",
       "0  Meta Quest 3 Elite Strap with VR Head Strap wi...      $129.00   \n",
       "1  Meta Quest 3S 128GB Virtual Reality Headset Ba...      $299.00   \n",
       "2  Meta Quest 3 512GB — The Most Powerful Quest —...      $499.00   \n",
       "3  Samsung Galaxy Watch4 40mm Smart Watch, Blueto...   Now $99.00   \n",
       "4  Straight Talk Moto G Play 4G 2024, 64GB, Blue ...       $29.88   \n",
       "5                                    Apple AirPods 4   Now $99.00   \n",
       "6  onn. 32” Class HD (720P) LED Roku Smart Televi...   Now $88.00   \n",
       "7  Apple AirTag - 1 Pack, Item Tracker with Apple...   Now $24.95   \n",
       "8  Acer Chromebook 315 15.6 inch Laptop Intel Pro...  Now $179.00   \n",
       "9  CyberPowerPC Gamer Master Gaming Desktop AMD R...  Now $809.00   \n",
       "\n",
       "                                                link  \\\n",
       "0  https://www.walmart.com/sp/track?bt=1&eventST=...   \n",
       "1  https://www.walmart.com/sp/track?bt=1&eventST=...   \n",
       "2  https://www.walmart.com/sp/track?bt=1&eventST=...   \n",
       "3  https://www.walmart.com/sp/track?bt=1&eventST=...   \n",
       "4  https://www.walmart.com/sp/track?bt=1&eventST=...   \n",
       "5                                                      \n",
       "6  https://www.walmart.com/sp/track?bt=1&eventST=...   \n",
       "7                                                      \n",
       "8  https://www.walmart.com/sp/track?bt=1&eventST=...   \n",
       "9  https://www.walmart.com/sp/track?bt=1&eventST=...   \n",
       "\n",
       "                                               image  \n",
       "0  https://i5.walmartimages.com/seo/Meta-Quest-3-...  \n",
       "1  https://i5.walmartimages.com/seo/Meta-Quest-3S...  \n",
       "2  https://i5.walmartimages.com/seo/Meta-Quest-3-...  \n",
       "3  https://i5.walmartimages.com/seo/Samsung-Galax...  \n",
       "4  https://i5.walmartimages.com/seo/Straight-Talk...  \n",
       "5  https://i5.walmartimages.com/seo/Apple-AirPods...  \n",
       "6  https://i5.walmartimages.com/seo/onn-32-Class-...  \n",
       "7  https://i5.walmartimages.com/seo/Apple-AirTag-...  \n",
       "8  https://i5.walmartimages.com/seo/Acer-Chromebo...  \n",
       "9  https://i5.walmartimages.com/seo/CyberPowerPC-...  "
      ]
     },
     "execution_count": 402,
     "metadata": {},
     "output_type": "execute_result"
    }
   ],
   "source": [
    "walmart_df.head(10)"
   ]
  },
  {
   "cell_type": "code",
   "execution_count": 409,
   "id": "5f6d6e3b",
   "metadata": {},
   "outputs": [
    {
     "name": "stderr",
     "output_type": "stream",
     "text": [
      "C:\\Users\\Abid\\AppData\\Local\\Temp\\ipykernel_13976\\3388425509.py:2: FutureWarning: A value is trying to be set on a copy of a DataFrame or Series through chained assignment using an inplace method.\n",
      "The behavior will change in pandas 3.0. This inplace method will never work because the intermediate object on which we are setting values always behaves as a copy.\n",
      "\n",
      "For example, when doing 'df[col].method(value, inplace=True)', try using 'df.method({col: value}, inplace=True)' or df[col] = df[col].method(value) instead, to perform the operation inplace on the original object.\n",
      "\n",
      "\n",
      "  walmart_df['link'].replace('', np.nan, inplace=True)\n",
      "C:\\Users\\Abid\\AppData\\Local\\Temp\\ipykernel_13976\\3388425509.py:5: FutureWarning: A value is trying to be set on a copy of a DataFrame or Series through chained assignment using an inplace method.\n",
      "The behavior will change in pandas 3.0. This inplace method will never work because the intermediate object on which we are setting values always behaves as a copy.\n",
      "\n",
      "For example, when doing 'df[col].method(value, inplace=True)', try using 'df.method({col: value}, inplace=True)' or df[col] = df[col].method(value) instead, to perform the operation inplace on the original object.\n",
      "\n",
      "\n",
      "  walmart_df['price'].replace('', np.nan, inplace=True)\n"
     ]
    }
   ],
   "source": [
    "# empty to null values of link \n",
    "walmart_df['link'].replace('', np.nan, inplace=True)\n",
    "# drop null values of link\n",
    "walmart_df = walmart_df.dropna()  # Remove empty titles\n",
    "walmart_df['price'].replace('', np.nan, inplace=True)\n",
    "# drop rows with NaN values in the 'price' column with indexing from 0 to onwards\n",
    "walmart_df.dropna(subset=['price'], inplace=True,)"
   ]
  },
  {
   "cell_type": "code",
   "execution_count": 410,
   "id": "e5fd44df",
   "metadata": {},
   "outputs": [
    {
     "name": "stdout",
     "output_type": "stream",
     "text": [
      "<class 'pandas.core.frame.DataFrame'>\n",
      "Index: 115 entries, 0 to 129\n",
      "Data columns (total 4 columns):\n",
      " #   Column  Non-Null Count  Dtype \n",
      "---  ------  --------------  ----- \n",
      " 0   title   115 non-null    object\n",
      " 1   price   115 non-null    object\n",
      " 2   link    115 non-null    object\n",
      " 3   image   115 non-null    object\n",
      "dtypes: object(4)\n",
      "memory usage: 4.5+ KB\n"
     ]
    }
   ],
   "source": [
    "\n",
    "walmart_df.info()"
   ]
  },
  {
   "cell_type": "code",
   "execution_count": 406,
   "id": "75aae5e4",
   "metadata": {},
   "outputs": [],
   "source": [
    "# remvoe the now and $ sing from price column and convert to float\n",
    "walmart_df['price'] = walmart_df['price'].str.replace('Now', '')\n"
   ]
  },
  {
   "cell_type": "code",
   "execution_count": 407,
   "id": "9114f13e",
   "metadata": {},
   "outputs": [],
   "source": [
    "walmart_df['price'] = walmart_df['price'].str.replace('$', '')"
   ]
  },
  {
   "cell_type": "code",
   "execution_count": 408,
   "id": "5f6d497c",
   "metadata": {},
   "outputs": [],
   "source": [
    "walmart_df['price'] = walmart_df['price'].str.replace(',', '')\n",
    "walmart_df['price'] = walmart_df['price'].replace('See price in cart', np.nan)"
   ]
  },
  {
   "cell_type": "code",
   "execution_count": 411,
   "id": "24857439",
   "metadata": {},
   "outputs": [
    {
     "name": "stdout",
     "output_type": "stream",
     "text": [
      "<class 'pandas.core.frame.DataFrame'>\n",
      "Index: 115 entries, 0 to 129\n",
      "Data columns (total 4 columns):\n",
      " #   Column  Non-Null Count  Dtype  \n",
      "---  ------  --------------  -----  \n",
      " 0   title   115 non-null    object \n",
      " 1   price   115 non-null    float64\n",
      " 2   link    115 non-null    object \n",
      " 3   image   115 non-null    object \n",
      "dtypes: float64(1), object(3)\n",
      "memory usage: 4.5+ KB\n"
     ]
    }
   ],
   "source": [
    "# convert to float\n",
    "walmart_df['price'] = walmart_df['price'].astype(float)\n",
    "walmart_df.info()"
   ]
  },
  {
   "cell_type": "code",
   "execution_count": 412,
   "id": "3eb9166c",
   "metadata": {},
   "outputs": [
    {
     "data": {
      "text/html": [
       "<div>\n",
       "<style scoped>\n",
       "    .dataframe tbody tr th:only-of-type {\n",
       "        vertical-align: middle;\n",
       "    }\n",
       "\n",
       "    .dataframe tbody tr th {\n",
       "        vertical-align: top;\n",
       "    }\n",
       "\n",
       "    .dataframe thead th {\n",
       "        text-align: right;\n",
       "    }\n",
       "</style>\n",
       "<table border=\"1\" class=\"dataframe\">\n",
       "  <thead>\n",
       "    <tr style=\"text-align: right;\">\n",
       "      <th></th>\n",
       "      <th>title</th>\n",
       "      <th>price</th>\n",
       "      <th>link</th>\n",
       "      <th>image</th>\n",
       "    </tr>\n",
       "  </thead>\n",
       "  <tbody>\n",
       "    <tr>\n",
       "      <th>0</th>\n",
       "      <td>Meta Quest 3 Elite Strap with VR Head Strap wi...</td>\n",
       "      <td>129.00</td>\n",
       "      <td>https://www.walmart.com/sp/track?bt=1&amp;eventST=...</td>\n",
       "      <td>https://i5.walmartimages.com/seo/Meta-Quest-3-...</td>\n",
       "    </tr>\n",
       "    <tr>\n",
       "      <th>1</th>\n",
       "      <td>Meta Quest 3S 128GB Virtual Reality Headset Ba...</td>\n",
       "      <td>299.00</td>\n",
       "      <td>https://www.walmart.com/sp/track?bt=1&amp;eventST=...</td>\n",
       "      <td>https://i5.walmartimages.com/seo/Meta-Quest-3S...</td>\n",
       "    </tr>\n",
       "    <tr>\n",
       "      <th>2</th>\n",
       "      <td>Meta Quest 3 512GB — The Most Powerful Quest —...</td>\n",
       "      <td>499.00</td>\n",
       "      <td>https://www.walmart.com/sp/track?bt=1&amp;eventST=...</td>\n",
       "      <td>https://i5.walmartimages.com/seo/Meta-Quest-3-...</td>\n",
       "    </tr>\n",
       "    <tr>\n",
       "      <th>3</th>\n",
       "      <td>Samsung Galaxy Watch4 40mm Smart Watch, Blueto...</td>\n",
       "      <td>99.00</td>\n",
       "      <td>https://www.walmart.com/sp/track?bt=1&amp;eventST=...</td>\n",
       "      <td>https://i5.walmartimages.com/seo/Samsung-Galax...</td>\n",
       "    </tr>\n",
       "    <tr>\n",
       "      <th>4</th>\n",
       "      <td>Straight Talk Moto G Play 4G 2024, 64GB, Blue ...</td>\n",
       "      <td>29.88</td>\n",
       "      <td>https://www.walmart.com/sp/track?bt=1&amp;eventST=...</td>\n",
       "      <td>https://i5.walmartimages.com/seo/Straight-Talk...</td>\n",
       "    </tr>\n",
       "    <tr>\n",
       "      <th>6</th>\n",
       "      <td>onn. 32” Class HD (720P) LED Roku Smart Televi...</td>\n",
       "      <td>88.00</td>\n",
       "      <td>https://www.walmart.com/sp/track?bt=1&amp;eventST=...</td>\n",
       "      <td>https://i5.walmartimages.com/seo/onn-32-Class-...</td>\n",
       "    </tr>\n",
       "    <tr>\n",
       "      <th>8</th>\n",
       "      <td>Acer Chromebook 315 15.6 inch Laptop Intel Pro...</td>\n",
       "      <td>179.00</td>\n",
       "      <td>https://www.walmart.com/sp/track?bt=1&amp;eventST=...</td>\n",
       "      <td>https://i5.walmartimages.com/seo/Acer-Chromebo...</td>\n",
       "    </tr>\n",
       "    <tr>\n",
       "      <th>9</th>\n",
       "      <td>CyberPowerPC Gamer Master Gaming Desktop AMD R...</td>\n",
       "      <td>809.00</td>\n",
       "      <td>https://www.walmart.com/sp/track?bt=1&amp;eventST=...</td>\n",
       "      <td>https://i5.walmartimages.com/seo/CyberPowerPC-...</td>\n",
       "    </tr>\n",
       "    <tr>\n",
       "      <th>10</th>\n",
       "      <td>Meta Quest 3 Elite Strap with VR Head Strap wi...</td>\n",
       "      <td>129.00</td>\n",
       "      <td>https://www.walmart.com/sp/track?bt=1&amp;eventST=...</td>\n",
       "      <td>https://i5.walmartimages.com/seo/Meta-Quest-3-...</td>\n",
       "    </tr>\n",
       "    <tr>\n",
       "      <th>11</th>\n",
       "      <td>Meta Quest 3S 128GB Virtual Reality Headset Ba...</td>\n",
       "      <td>299.00</td>\n",
       "      <td>https://www.walmart.com/sp/track?bt=1&amp;eventST=...</td>\n",
       "      <td>https://i5.walmartimages.com/seo/Meta-Quest-3S...</td>\n",
       "    </tr>\n",
       "    <tr>\n",
       "      <th>12</th>\n",
       "      <td>Straight Talk Moto G Play 4G 2024, 64GB, Blue ...</td>\n",
       "      <td>29.88</td>\n",
       "      <td>https://www.walmart.com/sp/track?bt=1&amp;eventST=...</td>\n",
       "      <td>https://i5.walmartimages.com/seo/Straight-Talk...</td>\n",
       "    </tr>\n",
       "    <tr>\n",
       "      <th>13</th>\n",
       "      <td>Samsung Galaxy Watch4 40mm Smart Watch, Blueto...</td>\n",
       "      <td>99.00</td>\n",
       "      <td>https://www.walmart.com/sp/track?bt=1&amp;eventST=...</td>\n",
       "      <td>https://i5.walmartimages.com/seo/Samsung-Galax...</td>\n",
       "    </tr>\n",
       "    <tr>\n",
       "      <th>14</th>\n",
       "      <td>Meta Quest 3 512GB — The Most Powerful Quest —...</td>\n",
       "      <td>499.00</td>\n",
       "      <td>https://www.walmart.com/sp/track?bt=1&amp;eventST=...</td>\n",
       "      <td>https://i5.walmartimages.com/seo/Meta-Quest-3-...</td>\n",
       "    </tr>\n",
       "    <tr>\n",
       "      <th>15</th>\n",
       "      <td>Cricket Wireless Moto G Play 2024, 64GB, 4GB R...</td>\n",
       "      <td>29.88</td>\n",
       "      <td>https://www.walmart.com/sp/track?bt=1&amp;eventST=...</td>\n",
       "      <td>https://i5.walmartimages.com/seo/Cricket-Wirel...</td>\n",
       "    </tr>\n",
       "    <tr>\n",
       "      <th>16</th>\n",
       "      <td>PIXMA TS3722 Wireless All-in-One Home Printer ...</td>\n",
       "      <td>49.00</td>\n",
       "      <td>https://www.walmart.com/sp/track?bt=1&amp;eventST=...</td>\n",
       "      <td>https://i5.walmartimages.com/seo/PIXMA-TS3722-...</td>\n",
       "    </tr>\n",
       "    <tr>\n",
       "      <th>17</th>\n",
       "      <td>Cobra RX685 Walkie Talkies Two-Way Radios (Pai...</td>\n",
       "      <td>54.33</td>\n",
       "      <td>https://www.walmart.com/sp/track?bt=1&amp;eventST=...</td>\n",
       "      <td>https://i5.walmartimages.com/seo/Cobra-RX685-W...</td>\n",
       "    </tr>\n",
       "    <tr>\n",
       "      <th>18</th>\n",
       "      <td>Element 43\" Class 4K UHD (2160p) LED XUMO Smar...</td>\n",
       "      <td>118.00</td>\n",
       "      <td>https://www.walmart.com/sp/track?bt=1&amp;eventST=...</td>\n",
       "      <td>https://i5.walmartimages.com/seo/Element-43-Cl...</td>\n",
       "    </tr>\n",
       "    <tr>\n",
       "      <th>20</th>\n",
       "      <td>ASUS Vivobook Go 15.6” Laptop, Intel i3-N305, ...</td>\n",
       "      <td>219.00</td>\n",
       "      <td>https://www.walmart.com/sp/track?bt=1&amp;eventST=...</td>\n",
       "      <td>https://i5.walmartimages.com/seo/ASUS-Vivobook...</td>\n",
       "    </tr>\n",
       "    <tr>\n",
       "      <th>21</th>\n",
       "      <td>Meta Quest 3 Elite Strap with VR Head Strap wi...</td>\n",
       "      <td>129.00</td>\n",
       "      <td>https://www.walmart.com/sp/track?bt=1&amp;eventST=...</td>\n",
       "      <td>https://i5.walmartimages.com/seo/Meta-Quest-3-...</td>\n",
       "    </tr>\n",
       "    <tr>\n",
       "      <th>22</th>\n",
       "      <td>Meta Quest 3S 128GB Virtual Reality Headset Ba...</td>\n",
       "      <td>299.00</td>\n",
       "      <td>https://www.walmart.com/sp/track?bt=1&amp;eventST=...</td>\n",
       "      <td>https://i5.walmartimages.com/seo/Meta-Quest-3S...</td>\n",
       "    </tr>\n",
       "  </tbody>\n",
       "</table>\n",
       "</div>"
      ],
      "text/plain": [
       "                                                title   price  \\\n",
       "0   Meta Quest 3 Elite Strap with VR Head Strap wi...  129.00   \n",
       "1   Meta Quest 3S 128GB Virtual Reality Headset Ba...  299.00   \n",
       "2   Meta Quest 3 512GB — The Most Powerful Quest —...  499.00   \n",
       "3   Samsung Galaxy Watch4 40mm Smart Watch, Blueto...   99.00   \n",
       "4   Straight Talk Moto G Play 4G 2024, 64GB, Blue ...   29.88   \n",
       "6   onn. 32” Class HD (720P) LED Roku Smart Televi...   88.00   \n",
       "8   Acer Chromebook 315 15.6 inch Laptop Intel Pro...  179.00   \n",
       "9   CyberPowerPC Gamer Master Gaming Desktop AMD R...  809.00   \n",
       "10  Meta Quest 3 Elite Strap with VR Head Strap wi...  129.00   \n",
       "11  Meta Quest 3S 128GB Virtual Reality Headset Ba...  299.00   \n",
       "12  Straight Talk Moto G Play 4G 2024, 64GB, Blue ...   29.88   \n",
       "13  Samsung Galaxy Watch4 40mm Smart Watch, Blueto...   99.00   \n",
       "14  Meta Quest 3 512GB — The Most Powerful Quest —...  499.00   \n",
       "15  Cricket Wireless Moto G Play 2024, 64GB, 4GB R...   29.88   \n",
       "16  PIXMA TS3722 Wireless All-in-One Home Printer ...   49.00   \n",
       "17  Cobra RX685 Walkie Talkies Two-Way Radios (Pai...   54.33   \n",
       "18  Element 43\" Class 4K UHD (2160p) LED XUMO Smar...  118.00   \n",
       "20  ASUS Vivobook Go 15.6” Laptop, Intel i3-N305, ...  219.00   \n",
       "21  Meta Quest 3 Elite Strap with VR Head Strap wi...  129.00   \n",
       "22  Meta Quest 3S 128GB Virtual Reality Headset Ba...  299.00   \n",
       "\n",
       "                                                 link  \\\n",
       "0   https://www.walmart.com/sp/track?bt=1&eventST=...   \n",
       "1   https://www.walmart.com/sp/track?bt=1&eventST=...   \n",
       "2   https://www.walmart.com/sp/track?bt=1&eventST=...   \n",
       "3   https://www.walmart.com/sp/track?bt=1&eventST=...   \n",
       "4   https://www.walmart.com/sp/track?bt=1&eventST=...   \n",
       "6   https://www.walmart.com/sp/track?bt=1&eventST=...   \n",
       "8   https://www.walmart.com/sp/track?bt=1&eventST=...   \n",
       "9   https://www.walmart.com/sp/track?bt=1&eventST=...   \n",
       "10  https://www.walmart.com/sp/track?bt=1&eventST=...   \n",
       "11  https://www.walmart.com/sp/track?bt=1&eventST=...   \n",
       "12  https://www.walmart.com/sp/track?bt=1&eventST=...   \n",
       "13  https://www.walmart.com/sp/track?bt=1&eventST=...   \n",
       "14  https://www.walmart.com/sp/track?bt=1&eventST=...   \n",
       "15  https://www.walmart.com/sp/track?bt=1&eventST=...   \n",
       "16  https://www.walmart.com/sp/track?bt=1&eventST=...   \n",
       "17  https://www.walmart.com/sp/track?bt=1&eventST=...   \n",
       "18  https://www.walmart.com/sp/track?bt=1&eventST=...   \n",
       "20  https://www.walmart.com/sp/track?bt=1&eventST=...   \n",
       "21  https://www.walmart.com/sp/track?bt=1&eventST=...   \n",
       "22  https://www.walmart.com/sp/track?bt=1&eventST=...   \n",
       "\n",
       "                                                image  \n",
       "0   https://i5.walmartimages.com/seo/Meta-Quest-3-...  \n",
       "1   https://i5.walmartimages.com/seo/Meta-Quest-3S...  \n",
       "2   https://i5.walmartimages.com/seo/Meta-Quest-3-...  \n",
       "3   https://i5.walmartimages.com/seo/Samsung-Galax...  \n",
       "4   https://i5.walmartimages.com/seo/Straight-Talk...  \n",
       "6   https://i5.walmartimages.com/seo/onn-32-Class-...  \n",
       "8   https://i5.walmartimages.com/seo/Acer-Chromebo...  \n",
       "9   https://i5.walmartimages.com/seo/CyberPowerPC-...  \n",
       "10  https://i5.walmartimages.com/seo/Meta-Quest-3-...  \n",
       "11  https://i5.walmartimages.com/seo/Meta-Quest-3S...  \n",
       "12  https://i5.walmartimages.com/seo/Straight-Talk...  \n",
       "13  https://i5.walmartimages.com/seo/Samsung-Galax...  \n",
       "14  https://i5.walmartimages.com/seo/Meta-Quest-3-...  \n",
       "15  https://i5.walmartimages.com/seo/Cricket-Wirel...  \n",
       "16  https://i5.walmartimages.com/seo/PIXMA-TS3722-...  \n",
       "17  https://i5.walmartimages.com/seo/Cobra-RX685-W...  \n",
       "18  https://i5.walmartimages.com/seo/Element-43-Cl...  \n",
       "20  https://i5.walmartimages.com/seo/ASUS-Vivobook...  \n",
       "21  https://i5.walmartimages.com/seo/Meta-Quest-3-...  \n",
       "22  https://i5.walmartimages.com/seo/Meta-Quest-3S...  "
      ]
     },
     "execution_count": 412,
     "metadata": {},
     "output_type": "execute_result"
    }
   ],
   "source": [
    "walmart_df.head(20)"
   ]
  },
  {
   "cell_type": "code",
   "execution_count": 413,
   "id": "08438353",
   "metadata": {},
   "outputs": [],
   "source": [
    "# save the final dataframe to csv file\n",
    "walmart_df.to_csv(\"./walmart data/electronics.csv\", header=True, index=False)"
   ]
  },
  {
   "cell_type": "code",
   "execution_count": 54,
   "id": "a5c10e09",
   "metadata": {},
   "outputs": [
    {
     "name": "stdout",
     "output_type": "stream",
     "text": [
      "Successfully saved JSON to: walmart_data.json\n"
     ]
    }
   ],
   "source": [
    "import pandas as pd\n",
    "\n",
    "# Step 1: Load the CSV file\n",
    "csv_file = 'walmart_data.csv'           # replace with your filename\n",
    "df = pd.read_csv(csv_file)\n",
    "\n",
    "# Step 2: Convert to JSON\n",
    "json_file = 'walmart_data.json'         # desired output filename\n",
    "df.to_json(json_file, orient='records', indent=4)\n",
    "\n",
    "print(f\"Successfully saved JSON to: {json_file}\")"
   ]
  },
  {
   "cell_type": "code",
   "execution_count": 420,
   "id": "0f49644d",
   "metadata": {},
   "outputs": [],
   "source": [
    "data1 = pd.read_csv('./walmart data/walmart1.csv')\n",
    "data2 = pd.read_csv('./walmart data/walmart2.csv')\n",
    "data3 = pd.read_csv('./walmart data/walmart3.csv')\n",
    "data4 = pd.read_csv('./walmart data/walmart4.csv')\n",
    "data5 = pd.read_csv('./walmart data/women_wellness .csv')\n",
    "data6 = pd.read_csv('./walmart data/usb.csv')\n",
    "data7 = pd.read_csv('./walmart data/treats.csv')\n",
    "data8 = pd.read_csv('./walmart data/toys.csv')\n",
    "data9 = pd.read_csv('./walmart data/tooth_paste.csv')\n",
    "data10 = pd.read_csv('./walmart data/stationery.csv')\n",
    "data11 = pd.read_csv('./walmart data/skin_care.csv')\n",
    "data12 = pd.read_csv('./walmart data/serum.csv')\n",
    "data13 = pd.read_csv('./walmart data/plant.csv')\n",
    "data14 = pd.read_csv('./walmart data/pain_management .csv')\n",
    "data15 = pd.read_csv('./walmart data/ointment.csv')\n",
    "data16 = pd.read_csv('./walmart data/moisturizer.csv')\n",
    "data17 = pd.read_csv('./walmart data/makeup.csv')\n",
    "data18 = pd.read_csv('./walmart data/lipstick.csv')\n",
    "data19 = pd.read_csv('./walmart data/kitchen.csv')\n",
    "data20 = pd.read_csv('./walmart data/hair_oil.csv')\n",
    "data21 = pd.read_csv('./walmart data/hair_color.csv')\n",
    "data22 = pd.read_csv('./walmart data/groceries.csv')\n",
    "data23 = pd.read_csv('./walmart data/face_wash.csv')\n",
    "data24 = pd.read_csv('./walmart data/electronics.csv')\n",
    "data25 = pd.read_csv('./walmart data/mobiles.csv')\n",
    "data26 = pd.read_csv('./walmart data/mobiles_accessories.csv')\n",
    "data27 = pd.read_csv('./walmart data/digestive_health .csv')\n",
    "data28 = pd.read_csv('./walmart data/diapers_and_wipes.csv')\n",
    "data29 = pd.read_csv('./walmart data/deodorant.csv')\n",
    "data30 = pd.read_csv('./walmart data/cream.csv')"
   ]
  },
  {
   "cell_type": "markdown",
   "id": "c23d3e26",
   "metadata": {},
   "source": []
  },
  {
   "cell_type": "code",
   "execution_count": 415,
   "id": "57047ae7",
   "metadata": {},
   "outputs": [
    {
     "data": {
      "text/html": [
       "<div>\n",
       "<style scoped>\n",
       "    .dataframe tbody tr th:only-of-type {\n",
       "        vertical-align: middle;\n",
       "    }\n",
       "\n",
       "    .dataframe tbody tr th {\n",
       "        vertical-align: top;\n",
       "    }\n",
       "\n",
       "    .dataframe thead th {\n",
       "        text-align: right;\n",
       "    }\n",
       "</style>\n",
       "<table border=\"1\" class=\"dataframe\">\n",
       "  <thead>\n",
       "    <tr style=\"text-align: right;\">\n",
       "      <th></th>\n",
       "      <th>title</th>\n",
       "      <th>price</th>\n",
       "      <th>link</th>\n",
       "      <th>image</th>\n",
       "    </tr>\n",
       "  </thead>\n",
       "  <tbody>\n",
       "    <tr>\n",
       "      <th>0</th>\n",
       "      <td>Giorgio Armani Acqua Di Gio Eau de Toilette, C...</td>\n",
       "      <td>25.50</td>\n",
       "      <td>https://www.walmart.com/sp/track?bt=1&amp;eventST=...</td>\n",
       "      <td>https://i5.walmartimages.com/seo/Giorgio-Arman...</td>\n",
       "    </tr>\n",
       "    <tr>\n",
       "      <th>1</th>\n",
       "      <td>Versace Eros Men EDT, Man Eau Fraiche EDT, Pou...</td>\n",
       "      <td>29.75</td>\n",
       "      <td>https://www.walmart.com/sp/track?bt=1&amp;eventST=...</td>\n",
       "      <td>https://i5.walmartimages.com/seo/Versace-Eros-...</td>\n",
       "    </tr>\n",
       "    <tr>\n",
       "      <th>2</th>\n",
       "      <td>Nautica Voyage Cologne for Men Spray, 3.4 fl oz</td>\n",
       "      <td>12.36</td>\n",
       "      <td>https://www.walmart.com/sp/track?bt=1&amp;eventST=...</td>\n",
       "      <td>https://i5.walmartimages.com/seo/Nautica-Voyag...</td>\n",
       "    </tr>\n",
       "    <tr>\n",
       "      <th>3</th>\n",
       "      <td>NAUTICA Midnight Voyage Eau De Toilette Spray,...</td>\n",
       "      <td>26.74</td>\n",
       "      <td>https://www.walmart.com/sp/track?bt=1&amp;eventST=...</td>\n",
       "      <td>https://i5.walmartimages.com/seo/NAUTICA-Midni...</td>\n",
       "    </tr>\n",
       "    <tr>\n",
       "      <th>4</th>\n",
       "      <td>Burberry WEEKEND Eau De Toilette Spray for Men...</td>\n",
       "      <td>28.03</td>\n",
       "      <td>https://www.walmart.com/sp/track?bt=1&amp;eventST=...</td>\n",
       "      <td>https://i5.walmartimages.com/seo/Burberry-WEEK...</td>\n",
       "    </tr>\n",
       "  </tbody>\n",
       "</table>\n",
       "</div>"
      ],
      "text/plain": [
       "                                               title  price  \\\n",
       "0  Giorgio Armani Acqua Di Gio Eau de Toilette, C...  25.50   \n",
       "1  Versace Eros Men EDT, Man Eau Fraiche EDT, Pou...  29.75   \n",
       "2    Nautica Voyage Cologne for Men Spray, 3.4 fl oz  12.36   \n",
       "3  NAUTICA Midnight Voyage Eau De Toilette Spray,...  26.74   \n",
       "4  Burberry WEEKEND Eau De Toilette Spray for Men...  28.03   \n",
       "\n",
       "                                                link  \\\n",
       "0  https://www.walmart.com/sp/track?bt=1&eventST=...   \n",
       "1  https://www.walmart.com/sp/track?bt=1&eventST=...   \n",
       "2  https://www.walmart.com/sp/track?bt=1&eventST=...   \n",
       "3  https://www.walmart.com/sp/track?bt=1&eventST=...   \n",
       "4  https://www.walmart.com/sp/track?bt=1&eventST=...   \n",
       "\n",
       "                                               image  \n",
       "0  https://i5.walmartimages.com/seo/Giorgio-Arman...  \n",
       "1  https://i5.walmartimages.com/seo/Versace-Eros-...  \n",
       "2  https://i5.walmartimages.com/seo/Nautica-Voyag...  \n",
       "3  https://i5.walmartimages.com/seo/NAUTICA-Midni...  \n",
       "4  https://i5.walmartimages.com/seo/Burberry-WEEK...  "
      ]
     },
     "execution_count": 415,
     "metadata": {},
     "output_type": "execute_result"
    }
   ],
   "source": [
    "data1.head()"
   ]
  },
  {
   "cell_type": "code",
   "execution_count": 422,
   "id": "b03823c9",
   "metadata": {},
   "outputs": [],
   "source": [
    "# merge the all dataframes vertically\n",
    "data = pd.concat([data1, data2, data3, data4, data5, data6, data7, data8, data9, data10, data11, data12, data13, data14, data15, data16, data17, data18, data19, data20, data21, data22, data23, data24,data25,data26,data27,data28,data29,data30], ignore_index=True)"
   ]
  },
  {
   "cell_type": "code",
   "execution_count": 426,
   "id": "0f2e3fba",
   "metadata": {},
   "outputs": [
    {
     "data": {
      "text/plain": [
       "title    0\n",
       "price    0\n",
       "link     0\n",
       "image    0\n",
       "dtype: int64"
      ]
     },
     "execution_count": 426,
     "metadata": {},
     "output_type": "execute_result"
    }
   ],
   "source": [
    "\n",
    "data.dropna(inplace=True)\n",
    "data.isnull().sum()\n",
    "\n"
   ]
  },
  {
   "cell_type": "code",
   "execution_count": 427,
   "id": "4be230db",
   "metadata": {},
   "outputs": [
    {
     "data": {
      "text/html": [
       "<div>\n",
       "<style scoped>\n",
       "    .dataframe tbody tr th:only-of-type {\n",
       "        vertical-align: middle;\n",
       "    }\n",
       "\n",
       "    .dataframe tbody tr th {\n",
       "        vertical-align: top;\n",
       "    }\n",
       "\n",
       "    .dataframe thead th {\n",
       "        text-align: right;\n",
       "    }\n",
       "</style>\n",
       "<table border=\"1\" class=\"dataframe\">\n",
       "  <thead>\n",
       "    <tr style=\"text-align: right;\">\n",
       "      <th></th>\n",
       "      <th>title</th>\n",
       "      <th>price</th>\n",
       "      <th>link</th>\n",
       "      <th>image</th>\n",
       "    </tr>\n",
       "  </thead>\n",
       "  <tbody>\n",
       "    <tr>\n",
       "      <th>0</th>\n",
       "      <td>Giorgio Armani Acqua Di Gio Eau de Toilette, C...</td>\n",
       "      <td>25.50</td>\n",
       "      <td>https://www.walmart.com/sp/track?bt=1&amp;eventST=...</td>\n",
       "      <td>https://i5.walmartimages.com/seo/Giorgio-Arman...</td>\n",
       "    </tr>\n",
       "    <tr>\n",
       "      <th>1</th>\n",
       "      <td>Versace Eros Men EDT, Man Eau Fraiche EDT, Pou...</td>\n",
       "      <td>29.75</td>\n",
       "      <td>https://www.walmart.com/sp/track?bt=1&amp;eventST=...</td>\n",
       "      <td>https://i5.walmartimages.com/seo/Versace-Eros-...</td>\n",
       "    </tr>\n",
       "    <tr>\n",
       "      <th>2</th>\n",
       "      <td>Nautica Voyage Cologne for Men Spray, 3.4 fl oz</td>\n",
       "      <td>12.36</td>\n",
       "      <td>https://www.walmart.com/sp/track?bt=1&amp;eventST=...</td>\n",
       "      <td>https://i5.walmartimages.com/seo/Nautica-Voyag...</td>\n",
       "    </tr>\n",
       "    <tr>\n",
       "      <th>3</th>\n",
       "      <td>NAUTICA Midnight Voyage Eau De Toilette Spray,...</td>\n",
       "      <td>26.74</td>\n",
       "      <td>https://www.walmart.com/sp/track?bt=1&amp;eventST=...</td>\n",
       "      <td>https://i5.walmartimages.com/seo/NAUTICA-Midni...</td>\n",
       "    </tr>\n",
       "    <tr>\n",
       "      <th>4</th>\n",
       "      <td>Burberry WEEKEND Eau De Toilette Spray for Men...</td>\n",
       "      <td>28.03</td>\n",
       "      <td>https://www.walmart.com/sp/track?bt=1&amp;eventST=...</td>\n",
       "      <td>https://i5.walmartimages.com/seo/Burberry-WEEK...</td>\n",
       "    </tr>\n",
       "    <tr>\n",
       "      <th>...</th>\n",
       "      <td>...</td>\n",
       "      <td>...</td>\n",
       "      <td>...</td>\n",
       "      <td>...</td>\n",
       "    </tr>\n",
       "    <tr>\n",
       "      <th>4341</th>\n",
       "      <td>Amvital Turmeric Cream for Glow - Natural Turm...</td>\n",
       "      <td>9.78</td>\n",
       "      <td>https://www.walmart.com/sp/track?bt=1&amp;eventST=...</td>\n",
       "      <td>https://i5.walmartimages.com/seo/Amvital-Turme...</td>\n",
       "    </tr>\n",
       "    <tr>\n",
       "      <th>4342</th>\n",
       "      <td>Pond's Correcting Facial Cream Clarant B3 Crea...</td>\n",
       "      <td>8.98</td>\n",
       "      <td>https://www.walmart.com/sp/track?bt=1&amp;eventST=...</td>\n",
       "      <td>https://i5.walmartimages.com/seo/Pond-s-Correc...</td>\n",
       "    </tr>\n",
       "    <tr>\n",
       "      <th>4343</th>\n",
       "      <td>Amvital Turmeric Cream for Glow - Natural Turm...</td>\n",
       "      <td>9.78</td>\n",
       "      <td>https://www.walmart.com/sp/track?bt=1&amp;eventST=...</td>\n",
       "      <td>https://i5.walmartimages.com/seo/Amvital-Turme...</td>\n",
       "    </tr>\n",
       "    <tr>\n",
       "      <th>4344</th>\n",
       "      <td>Pond's Correcting Facial Cream Clarant B3 Crea...</td>\n",
       "      <td>8.98</td>\n",
       "      <td>https://www.walmart.com/sp/track?bt=1&amp;eventST=...</td>\n",
       "      <td>https://i5.walmartimages.com/seo/Pond-s-Correc...</td>\n",
       "    </tr>\n",
       "    <tr>\n",
       "      <th>4345</th>\n",
       "      <td>Amvital Turmeric Cream for Glow - Natural Turm...</td>\n",
       "      <td>9.78</td>\n",
       "      <td>https://www.walmart.com/sp/track?bt=1&amp;eventST=...</td>\n",
       "      <td>https://i5.walmartimages.com/seo/Amvital-Turme...</td>\n",
       "    </tr>\n",
       "  </tbody>\n",
       "</table>\n",
       "<p>4344 rows × 4 columns</p>\n",
       "</div>"
      ],
      "text/plain": [
       "                                                  title  price  \\\n",
       "0     Giorgio Armani Acqua Di Gio Eau de Toilette, C...  25.50   \n",
       "1     Versace Eros Men EDT, Man Eau Fraiche EDT, Pou...  29.75   \n",
       "2       Nautica Voyage Cologne for Men Spray, 3.4 fl oz  12.36   \n",
       "3     NAUTICA Midnight Voyage Eau De Toilette Spray,...  26.74   \n",
       "4     Burberry WEEKEND Eau De Toilette Spray for Men...  28.03   \n",
       "...                                                 ...    ...   \n",
       "4341  Amvital Turmeric Cream for Glow - Natural Turm...   9.78   \n",
       "4342  Pond's Correcting Facial Cream Clarant B3 Crea...   8.98   \n",
       "4343  Amvital Turmeric Cream for Glow - Natural Turm...   9.78   \n",
       "4344  Pond's Correcting Facial Cream Clarant B3 Crea...   8.98   \n",
       "4345  Amvital Turmeric Cream for Glow - Natural Turm...   9.78   \n",
       "\n",
       "                                                   link  \\\n",
       "0     https://www.walmart.com/sp/track?bt=1&eventST=...   \n",
       "1     https://www.walmart.com/sp/track?bt=1&eventST=...   \n",
       "2     https://www.walmart.com/sp/track?bt=1&eventST=...   \n",
       "3     https://www.walmart.com/sp/track?bt=1&eventST=...   \n",
       "4     https://www.walmart.com/sp/track?bt=1&eventST=...   \n",
       "...                                                 ...   \n",
       "4341  https://www.walmart.com/sp/track?bt=1&eventST=...   \n",
       "4342  https://www.walmart.com/sp/track?bt=1&eventST=...   \n",
       "4343  https://www.walmart.com/sp/track?bt=1&eventST=...   \n",
       "4344  https://www.walmart.com/sp/track?bt=1&eventST=...   \n",
       "4345  https://www.walmart.com/sp/track?bt=1&eventST=...   \n",
       "\n",
       "                                                  image  \n",
       "0     https://i5.walmartimages.com/seo/Giorgio-Arman...  \n",
       "1     https://i5.walmartimages.com/seo/Versace-Eros-...  \n",
       "2     https://i5.walmartimages.com/seo/Nautica-Voyag...  \n",
       "3     https://i5.walmartimages.com/seo/NAUTICA-Midni...  \n",
       "4     https://i5.walmartimages.com/seo/Burberry-WEEK...  \n",
       "...                                                 ...  \n",
       "4341  https://i5.walmartimages.com/seo/Amvital-Turme...  \n",
       "4342  https://i5.walmartimages.com/seo/Pond-s-Correc...  \n",
       "4343  https://i5.walmartimages.com/seo/Amvital-Turme...  \n",
       "4344  https://i5.walmartimages.com/seo/Pond-s-Correc...  \n",
       "4345  https://i5.walmartimages.com/seo/Amvital-Turme...  \n",
       "\n",
       "[4344 rows x 4 columns]"
      ]
     },
     "execution_count": 427,
     "metadata": {},
     "output_type": "execute_result"
    }
   ],
   "source": [
    "data"
   ]
  },
  {
   "cell_type": "code",
   "execution_count": 428,
   "id": "eb3aea43",
   "metadata": {},
   "outputs": [],
   "source": [
    "data.to_csv('./walmart data/walmart.csv', index=False)"
   ]
  },
  {
   "cell_type": "code",
   "execution_count": 430,
   "id": "6a8f2463",
   "metadata": {},
   "outputs": [
    {
     "name": "stdout",
     "output_type": "stream",
     "text": [
      "Successfully saved JSON to: walmart_data.json\n"
     ]
    }
   ],
   "source": [
    "# Step 1: Load the CSV file\n",
    "csv_file = './walmart data/walmart.csv'           # replace with your filename\n",
    "df = pd.read_csv(csv_file)\n",
    "\n",
    "# Step 2: Convert to JSON\n",
    "json_file = 'walmart_data.json'         # desired output filename\n",
    "df.to_json(json_file, orient='records', indent=4)\n",
    "\n",
    "print(f\"Successfully saved JSON to: {json_file}\")"
   ]
  },
  {
   "cell_type": "code",
   "execution_count": null,
   "id": "a7f885d5",
   "metadata": {},
   "outputs": [],
   "source": []
  }
 ],
 "metadata": {
  "kernelspec": {
   "display_name": "base",
   "language": "python",
   "name": "python3"
  },
  "language_info": {
   "codemirror_mode": {
    "name": "ipython",
    "version": 3
   },
   "file_extension": ".py",
   "mimetype": "text/x-python",
   "name": "python",
   "nbconvert_exporter": "python",
   "pygments_lexer": "ipython3",
   "version": "3.12.7"
  }
 },
 "nbformat": 4,
 "nbformat_minor": 5
}
