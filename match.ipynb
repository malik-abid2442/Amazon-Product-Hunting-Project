{
 "cells": [
  {
   "cell_type": "code",
   "execution_count": 16,
   "id": "50c1a6f2",
   "metadata": {},
   "outputs": [],
   "source": [
    "import json\n",
    "from rapidfuzz import fuzz\n",
    "\n",
    "# Load the product data\n",
    "with open('amazon.json') as f:\n",
    "    amazon_products = json.load(f)\n",
    "\n",
    "with open('walmart_data.json') as f:\n",
    "    walmart_products = json.load(f)\n",
    "\n",
    "# Match each Amazon product with every Walmart product\n",
    "for product in amazon_products:\n",
    "    best_profit = 0\n",
    "    best_match = None\n",
    "    best_score = 0\n",
    "\n",
    "    for walmart_product in walmart_products:\n",
    "        if 'title' in product and 'title' in walmart_product:\n",
    "            score = fuzz.token_sort_ratio(product['title'], walmart_product['title'])\n",
    "        else:\n",
    "            continue\n",
    "\n",
    "        if score > 70 and product['price'] > 0 and walmart_product['price'] > 0:\n",
    "            profit_margin = (product['price'] * 0.85) - walmart_product['price']\n",
    "\n",
    "            if profit_margin > best_profit:\n",
    "                best_profit = profit_margin\n",
    "                best_match = walmart_product\n",
    "                best_score = score\n",
    "\n",
    "    # Store best match if it was profitable\n",
    "    if best_match and best_profit > 0:\n",
    "        product['walmart_match'] = best_match\n",
    "        product['walmart_match_score'] = best_score\n",
    "        product['profit_margin'] = best_profit\n",
    "    else:\n",
    "        product['walmart_match'] = None\n",
    "        product['walmart_match_score'] = 0\n",
    "        product['profit_margin'] = 0\n"
   ]
  },
  {
   "cell_type": "code",
   "execution_count": 17,
   "id": "5712ab7e",
   "metadata": {},
   "outputs": [],
   "source": [
    "# Save to new JSON\n",
    "with open('amazon_with_matches.json', 'w') as f:\n",
    "    json.dump(amazon_products, f, indent=2)\n"
   ]
  },
  {
   "cell_type": "code",
   "execution_count": 2,
   "id": "9223674e",
   "metadata": {},
   "outputs": [
    {
     "name": "stdout",
     "output_type": "stream",
     "text": [
      "Collecting rapidfuzz\n",
      "  Downloading rapidfuzz-3.13.0-cp312-cp312-win_amd64.whl.metadata (12 kB)\n",
      "Downloading rapidfuzz-3.13.0-cp312-cp312-win_amd64.whl (1.6 MB)\n",
      "   ---------------------------------------- 0.0/1.6 MB ? eta -:--:--\n",
      "   ---------------------------------------- 0.0/1.6 MB ? eta -:--:--\n",
      "   ------ --------------------------------- 0.3/1.6 MB ? eta -:--:--\n",
      "   ------------------------- -------------- 1.0/1.6 MB 3.6 MB/s eta 0:00:01\n",
      "   ---------------------------------------- 1.6/1.6 MB 3.0 MB/s eta 0:00:00\n",
      "Installing collected packages: rapidfuzz\n",
      "Successfully installed rapidfuzz-3.13.0\n",
      "Note: you may need to restart the kernel to use updated packages.\n"
     ]
    }
   ],
   "source": [
    "pip install rapidfuzz"
   ]
  },
  {
   "cell_type": "code",
   "execution_count": null,
   "id": "42a87005",
   "metadata": {},
   "outputs": [],
   "source": []
  }
 ],
 "metadata": {
  "kernelspec": {
   "display_name": "base",
   "language": "python",
   "name": "python3"
  },
  "language_info": {
   "codemirror_mode": {
    "name": "ipython",
    "version": 3
   },
   "file_extension": ".py",
   "mimetype": "text/x-python",
   "name": "python",
   "nbconvert_exporter": "python",
   "pygments_lexer": "ipython3",
   "version": "3.12.7"
  }
 },
 "nbformat": 4,
 "nbformat_minor": 5
}
